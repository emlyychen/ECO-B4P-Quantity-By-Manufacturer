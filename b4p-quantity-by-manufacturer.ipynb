{
 "cells": [
  {
   "cell_type": "markdown",
   "metadata": {},
   "source": [
    "# Graph Quantity of donations by Manufacturer"
   ]
  },
  {
   "cell_type": "code",
   "execution_count": 1,
   "metadata": {},
   "outputs": [],
   "source": [
    "import pandas as pd"
   ]
  },
  {
   "cell_type": "code",
   "execution_count": 2,
   "metadata": {},
   "outputs": [
    {
     "name": "stdout",
     "output_type": "stream",
     "text": [
      "      Pallet  Month, Year           Timestamp      Item (ex. Surgical Gloves)  \\\n",
      "0        NaN          NaN  1/19/2024 15:27:43               Plastic cup lids    \n",
      "1        NaN          NaN  1/19/2024 15:27:45                           Lids    \n",
      "2        NaN          NaN  1/19/2024 15:27:53                       Cup lids    \n",
      "3        NaN          NaN  1/19/2024 15:28:47                           Cups    \n",
      "4        NaN          NaN  1/19/2024 15:30:26                       Cup lids    \n",
      "...      ...          ...                 ...                             ...   \n",
      "1710     NaN          NaN  3/15/2024 16:54:21         Blood collection needle   \n",
      "1711     NaN          NaN  3/15/2024 16:55:28                        DNA Kits   \n",
      "1712     NaN          NaN  3/15/2024 16:55:43        blood collection needles   \n",
      "1713     NaN          NaN  3/15/2024 16:56:00         Blood Collection Needle   \n",
      "1714     NaN          NaN  3/15/2024 16:57:57  safety blood collection needle   \n",
      "\n",
      "     Manufacturer  Quantity (ex. 200) Expiration date (ex. 12/31/2024)  \\\n",
      "0             Dart          1000 lids                              NaN   \n",
      "1             Dart               1000                              NaN   \n",
      "2            Dart                1000                              NaN   \n",
      "3            Dart                1000                              NaN   \n",
      "4            Dart                1000                              NaN   \n",
      "...            ...                ...                              ...   \n",
      "1710            BD                  5                              NaN   \n",
      "1711   DNA Genotek                  5                              NaN   \n",
      "1712            BD                  1                              NaN   \n",
      "1713            BD                  3                        1/31/2026   \n",
      "1714       micsafe                  2                         5/1/2025   \n",
      "\n",
      "                                               Category      Notes  \\\n",
      "0                                                 Other        NaN   \n",
      "1                                                 Other        NaN   \n",
      "2                                                 Other  Cup lids    \n",
      "3                                                 Other        NaN   \n",
      "4                                                   NaN        NaN   \n",
      "...                                                 ...        ...   \n",
      "1710                               Needles and Syringes        NaN   \n",
      "1711  Diagnostic and Monitoring Equipment (BP cuffs,...        NaN   \n",
      "1712                               Needles and Syringes        NaN   \n",
      "1713                               Needles and Syringes        NaN   \n",
      "1714                               Needles and Syringes        NaN   \n",
      "\n",
      "     Pallet Number (Blueprints member will give this)  \\\n",
      "0                                                  11   \n",
      "1                                                  11   \n",
      "2                                                  11   \n",
      "3                                                  11   \n",
      "4                                                  11   \n",
      "...                                               ...   \n",
      "1710                                                1   \n",
      "1711                                                1   \n",
      "1712                                                1   \n",
      "1713                                                1   \n",
      "1714                                                1   \n",
      "\n",
      "     Box Number (Blueprints member will give this)  \n",
      "0                                                1  \n",
      "1                                                3  \n",
      "2                                                1  \n",
      "3                                                6  \n",
      "4                                                1  \n",
      "...                                            ...  \n",
      "1710                                            32  \n",
      "1711                                            32  \n",
      "1712                                            32  \n",
      "1713                                            32  \n",
      "1714                                            32  \n",
      "\n",
      "[1715 rows x 11 columns]\n"
     ]
    }
   ],
   "source": [
    "df = pd.read_csv('Copy-of-Inventory-Form-Responses-Quantity_Manufacturer-Form-Responses-1.csv')\n",
    "print(df)"
   ]
  },
  {
   "cell_type": "code",
   "execution_count": 6,
   "metadata": {},
   "outputs": [
    {
     "name": "stdout",
     "output_type": "stream",
     "text": [
      "[' med pace ', '3M', '3M Health Care', '3m', 'ACM', 'AMT', 'AMTO', 'ASP', 'Abbott', 'Acelity', 'Addto', 'Addto ', 'Addto inc ', 'Advance', 'Air life', 'AirLife', 'Aircast ', 'Airlife', 'Albahealth', 'Allen', 'Amazon', 'Ambu', 'Ambu ', 'Amcor', 'Amt', 'Anaerobe Systems', 'Aplicare', 'Applied Med Tech', 'Applied Medical Technology ', 'Aptima', 'Aptima ', 'Aquasonic', 'Argon', 'Argos ', 'Argyle ', 'Arrow', 'Arrow ', 'Arrow international', 'Aspen', 'Aspen Surgical', 'Atrium', 'Atrium Medical', 'AuraStraight', 'Avanos', 'Avanos ', 'B Braun', 'B Braun Medical ', 'BB medical technologies ', 'BD', 'BD Alaris', 'BSN', 'BVI Beaver', 'Bard', 'Bard ', 'Bard Access Systems', 'Bard Medical', 'Bard Parker', 'Bard Parker ', 'Bard access ', 'Bardex', 'Bardex ', 'Baxter', 'Baxter ', 'Bayer', 'Baylis', 'BioAgilytix ', 'Bioagiltix ', 'Bioagilytix', 'Biogel', 'Biopatch', 'Biosense Webster', 'Biotronik', 'Boston Scientific', 'Boston Scientific ', 'Braun', 'Braun ', 'Brava', 'Busse', 'CEpartner4U', 'CONMED', 'COVIDIEN', 'CURAD', 'Caina', 'Cardinal Health', 'Care fusion', 'Carefusion', 'Cedic Srl', 'Centor', 'Centurion', 'Chocolate', 'Clear link System', 'Cleartrace', 'Clia', 'Coagucheck', 'Coloplast', 'Coloplast ', 'Comfeel plus transparent', 'ConMed', 'ConMed ', 'Conmed', 'Conmed ', 'ControlPlus', 'ConvaTec', 'Convance', 'Conveen', 'Convex', 'Cook', 'Cook Med', 'Cooper Surgical', 'Copan', 'Couvidien ', 'Covance', 'Coviden', 'Coviden ', 'Covidian', 'Covidian ', 'Covidien', 'Covidien ', 'Covidien Shiley', 'Covidien shiley', 'Cratikon', 'Critikon', 'Critikon ', 'Curad', 'Curad ', 'Cyteir ', 'Cyteir Therapeutics ', 'Cytosoft', 'DGP Intelsius Ltd.', 'DJO', 'DNA Genotek', 'DPS', 'Dale', 'Dale ', 'Dart', 'Dart ', 'DawnMist', 'De Royal Industries', 'DeRoyal', 'DeRoyal ', 'Deroyal', 'Derroyal', 'Dist. Tennant Packaging Corporation ', 'Diversey', 'Dover', 'Dr. Brown’s Medical', 'DropSafe', 'Dukal', 'Dukal ', 'Dukal Corp', 'Dukal Corporation', 'Duopress', 'Dura-Cuf', 'Durapore', 'Dynarex', 'ENFit', 'Eakin', 'Eclipse', 'Eitan Medical', 'Eitan Medical ', 'Elton medical sapphire', 'Emerge', 'Enfamil', 'Enfit ', 'Essential Medical (Manta)', 'Ethicon', 'Ethicon (J&J)', 'Ethilon', 'Eurofins', 'Ev3', 'FLOQSwabs', 'Fabco', 'Fabco ORS', 'Falcon', 'Ferndale Laboratories', 'Finger shield ', 'Fisher Brand', 'Fisherbrand ', 'Flexor', 'FloqSwabs', 'Fogarty', 'Folysil ', 'Fresenius medical care', 'GE medical systems ', 'GEM', 'GLIDESCOPE', 'GLOBE', 'Gen X', 'Gen mab ', 'Genmab ', 'Genotek ', 'Gentherm', 'Gentherm ', 'Gerber', 'Glide scope', 'GlideScope', 'GlideScope ', 'Glidescope', 'Glidwider', 'Good lite', 'Goretex', 'Grafco ', 'Greiner', 'Greiner Bio One', 'Grinder Bio One', 'Gurad', 'HR Pharmaceuticals', 'Hakko', 'Hakko ', 'Halo', 'Halyard', 'Halyard ', 'Harmonic Synergy', 'Hartmann', 'Havels', 'Health Care Logistics inc', 'Henry Schein', 'Henry Schein ', 'Henry schein', 'Hillrom', 'Hollister', 'HollisterWoundcare', 'Hudson', 'Hudson RCI', 'Huggies', 'HyTape', 'ICP transpac ', 'ICU Medical', 'ICU medical', 'ICU medical ', 'ICUMedical', 'ICUmedical', 'ICu medical', 'INTERSURGICAL', 'Icumedical', 'Immunostics', 'In health technology ', 'Inhealth technologies', 'Integra', 'Intersurgical ', 'Intuitive Surgical', 'Invotec', 'Izi medical', 'Jiangsu Changfeng ', 'Jobst', 'KCI', 'KCl', 'Kendall', 'King Systems', 'King system', 'Kingsystems', 'Kyphon', 'Kyphon ', 'Labcorp', 'Labcorp ', 'Lance', 'Lawei', 'Lubri-sil', 'Lure lok', 'MADomizer', 'MH', 'MHC Medical Products ', 'MXP fitnessgear', 'Mabis', 'Madhu instruments', 'Magellan', 'Manta', 'Mara SB FC', 'Masimo', 'Masimo set', 'Masimoset', 'McKesson', 'Mckesson', 'Mead Johnson', 'Mead Johnson ', 'Med Pat ', 'Med choice', 'Med choice ', 'MedChoice', 'Medchoice', 'Medela', 'Medela ', 'Medex', 'Medex ', 'Medi choice', 'MediChoice', 'Medical Action Industries', 'Medical Action industries', 'Medichoice', 'Medichoice ', 'Medicore ', 'Mediven ', 'Medline', 'Medline Remedy ', 'Medpace reference laboratories ', 'Medstream', 'Medtronic', 'Medtronic ', 'Mentor', 'Mepilex', 'Mercury Medical', 'Merek Milipore', 'Merit Medical', 'Merocel', 'Michigan ', 'Michigan Medicine', 'Microtek Medical', 'MiniLoc', 'Molnlycke', 'Molnlycke biogel sensor', 'Molnycke Healthcare', 'Molynlyckle', 'Monoject', 'Multiple brands', 'Mölnlycke', 'Mölnlycke ', 'Nalge nunc International corporation ', 'Namic', 'NeoConnect/NeoMed', 'NeoMed', 'New World Medical', 'Nimo PPE', 'Nipro', 'No manufacturer listed', 'NormJect', 'Nova plus', 'Novaplus', 'OC-Auto', 'Olympus', 'Oncobay', 'OneShot', 'Oragene Dx', 'P&G (Pampers)', 'PDI', 'PVC', 'PadPro', 'Pakistan U', 'Pampers', 'Para-Pak', 'Parker Laboratories ', 'Parker laboratories', 'Pas technology ', 'Phasor', 'Philips', 'Phillips', 'Portex', 'Portex ', 'Posey', 'Precision Glide', 'Presource', 'Presource standard', 'Puritan', 'Quintiles Lab', 'Quintiles Laboratories ', 'Radiofocus', 'Radiometer', 'Respan', 'Respironics ', 'Restore ', 'Richardson Products', 'Rx only', 'SARSTEDT', 'Safeset', 'Safeset ', 'Saint Johns', 'Salter Labs', 'Sarstedt ', 'ScopeGliders', 'Self Cath', 'Sending care Ice', 'Sheathes Technologies Inc', 'Sheridan ', 'Shiley', 'Shumsky ', 'Simport Science', 'Sklar', 'Sklar ', 'Sklar Sterile', 'Skylar', 'Smith & Nephew', 'Smith & nephew', 'Smith and Nephew', 'Smith&nephew', 'Smiths', 'Smiths Medical', 'Smiths Medical International ', 'Smiths medical', 'Smiths medical ', 'SoL M', 'Sonek', 'SpeediCath', 'St. Jude Medical', 'Statlock', 'Steelcase', 'Steri Strip', 'Stomahesive ', 'Storz', 'Stryker', 'SunMed', 'SunMed ', 'SureStep', 'Symmetry surgical', 'TKMD', 'Technomed Europe', 'Tegaderm ', 'Teleflex', 'Teleflex ', 'Teleflex Medical', 'Teleflex medical', 'Tempest Therapeutics', 'Temuro ', 'TenderCare', 'Terumo', 'Terumo ', 'Terumo I ', 'Test Equity', 'Tidi Shield', 'Tkmd', 'Tkmd ', 'Totaltrace', 'Transpore', 'Triumph', 'Unknown ', 'Unnamed ', 'Urgo medical ', 'Urgotul', 'VAC', 'Valeo', 'VanishPoint', 'Verathon', 'Vermed', 'ViOptix', 'Vital Care Industries', 'VixOne', 'Vyaire', 'Vygon', 'Vygon ', 'Webcol', 'Welch Allyn', 'WelchAllyn', 'West Med', 'WriteSite Plus', 'Zoll', 'actimove', 'ambu', 'ameda', 'aptima', 'arrow', 'avanos', 'avanos ', 'band access systems', 'bard parker', 'bard-parker', 'baxter', 'braun', 'bygone ', 'cedic srl', 'centurion ', 'clave', 'codman', 'conmed', 'coviden', 'covidien', 'covidien ', 'curad', 'curbell', 'curity', 'da Vinci Xi', 'dale', 'damaisely ', 'deroyal ', 'dna genotex ', 'dove ', 'dr browns ', 'dymex', 'dymex ', 'ethicon', 'ethicon ', 'fedex', 'fine surgical instrument', 'fisher brand', 'flip lock', 'gentherm', 'gore', 'greiner bio one', 'halyard', 'henkel corporation', 'henry schein ', 'hillrom', 'hollister', 'hollister ', 'hudson RCI', 'huggies', 'icumedical', 'icumedical ', 'integra', 'kci', 'kci ', 'kenad sg', 'koru', 'labconnect', 'labconnect ', 'masimo set', 'med choice ', 'medchoice', 'medex', 'medical action', 'medichoice', 'micsafe', 'mini one', 'miniLoc', 'miniloc ', 'molnlycke', 'molnycke', 'monaghan', 'nan', 'natus', 'nipro', 'norco', 'norm next ', 'norm-ject', 'pace ', 'padpro', 'pampers ', 'phasor', 'pleur evac', 'portex', 'procell', 'quickclot', 'quintiles laboratories ', 'radifocus glideware', 'restore ', 'self cath', 'shifeng', 'sklar', 'spinocan', 'standard register ', 'surgilube ', 'teleflex', 'teleflex ', 'tempest therapeutics', 'thermosafe ', 'tkmd', 'transpore', 'ultracare', 'vanishpoint', 'vonseql', 'vy con', 'vyaire', 'vyaire ', 'vygon ']\n"
     ]
    }
   ],
   "source": [
    "df['Manufacturer '] = df['Manufacturer '].astype(str)\n",
    "print(sorted(df['Manufacturer '].unique()))"
   ]
  }
 ],
 "metadata": {
  "kernelspec": {
   "display_name": "Python 3",
   "language": "python",
   "name": "python3"
  },
  "language_info": {
   "codemirror_mode": {
    "name": "ipython",
    "version": 3
   },
   "file_extension": ".py",
   "mimetype": "text/x-python",
   "name": "python",
   "nbconvert_exporter": "python",
   "pygments_lexer": "ipython3",
   "version": "3.9.2"
  }
 },
 "nbformat": 4,
 "nbformat_minor": 2
}
